{
 "cells": [
  {
   "cell_type": "markdown",
   "id": "89ed2a8d-2473-4361-898f-b7a5330969fe",
   "metadata": {},
   "source": [
    "# Senstivity study for the `Courior Only` model - `RMSS2_V2.2C`"
   ]
  },
  {
   "cell_type": "markdown",
   "id": "d25b1095-f811-4db4-bffb-3a15b42975a7",
   "metadata": {},
   "source": [
    "### This model is based on work by: Saltelli\n",
    "Great book (game changer for myself) --> https://www.amazon.com/Sensitivity-Analysis-Practice-Assessing-Scientific/dp/0470870931/ref=sr_1_1?dchild=1&qid=1626197470&refinements=p_27%3AAndrea+Saltelli&s=books&sr=1-1&text=Andrea+Saltelli <br>\n",
    "Sensitivity Analysis in Practice: A Guide to Assessing Scientific Models 1st Edition <br>\n",
    "by Andrea Saltelli (Author), Stefano Tarantola (Author), Francesca Campolongo (Author), Marco Ratto (Author)"
   ]
  },
  {
   "cell_type": "code",
   "execution_count": 1,
   "id": "a26ab0f0-27ea-46c7-8d74-6ce3a5005857",
   "metadata": {},
   "outputs": [],
   "source": [
    "import numpy as np\n",
    "import pandas as pd\n",
    "import matplotlib.pyplot as plt\n",
    "import seaborn as sns\n",
    "sns.set_style('white')\n",
    "sns.set_context('talk')\n",
    "\n",
    "import pyNetLogo\n",
    "\n",
    "#Import the sampling and analysis modules for a Sobol variance-based\n",
    "#sensitivity analysis\n",
    "from SALib.sample import saltelli\n",
    "from SALib.analyze import sobol"
   ]
  },
  {
   "cell_type": "markdown",
   "id": "b61670a8-d079-45dd-a076-54337d6f9efd",
   "metadata": {},
   "source": [
    "### Variables - format:[variable-name, [low, step, high]\n",
    "The following varaibles are avalible for use. Exersized variables bold <br>\n",
    "[\"charger-network\" true false]<br>\n",
    "[\"has-charge-station\" [0 0.01 1]]<br>\n",
    "**[\"service-range\" [1 1 170]]<br>**\n",
    "**[\"chance-of-medical-event\" [0 1.0E-4 0.01]]**<br>\n",
    "**[\"chance-of-standard\" [0 0.01 1]]**<br>\n",
    "_[\"chance-of-emergency\" [0 0.01 1]] - caluclated in netlogo (1-chance-of-emergency)_<br>\n",
    "[\"activate-hospitals\" true false]<br>\n",
    "[\"drone-types\" \"444444444444444444444\"] <br>\n",
    "[\"replacebattery?\" true false]<br>\n",
    "[\"maxpayloadweight\" [4 1 150]]<br>\n",
    "**[\"meanpayloadweight\" [1 1 150]]**<br>\n",
    "**[\"startup-costs\" [50000 10000 1000000]]**<br>\n",
    "**[\"maintenace-cost-per-hour\" [0 10 1000]]**<br>\n",
    "[\"discharge_adjustment\" [0 1 400]]<br>\n",
    "**[\"chance_of_typea\" [0 0.01 1]]**<br>\n",
    "**[\"chance_of_typeb\" [0 0.01 1]]**<br>\n",
    "**[\"chance_of_typec\" [0 0.01 1]]**<br>\n",
    "**[\"number_of_drones\" [1 1 30]]**<br>\n",
    "\n",
    "### Responses \n",
    "- mean avgResponseTimeStandard\n",
    "- mean avgResponseTimeEmergency\n",
    "- length tmpList (queue Length) - no used now\n",
    "- fitnessFunc\n",
    "- totalOperatingCosts"
   ]
  },
  {
   "cell_type": "code",
   "execution_count": 2,
   "id": "f76a5fbc-ed65-4cde-914f-ce9bb481f98c",
   "metadata": {},
   "outputs": [
    {
     "data": {
      "text/plain": [
       "{'num_vars': 11,\n",
       " 'names': ['random-seed',\n",
       "  'service-range',\n",
       "  'chance-of-medical-event',\n",
       "  'chance-of-standard',\n",
       "  'meanpayloadweight',\n",
       "  'startup-costs',\n",
       "  'maintenace-cost-per-hour',\n",
       "  'chance_of_typea',\n",
       "  'chance_of_typeb',\n",
       "  'chance_of_typec',\n",
       "  'number_of_drones'],\n",
       " 'bounds': [[1, 100000],\n",
       "  [20, 120],\n",
       "  [0.0001, 0.01],\n",
       "  [0, 1],\n",
       "  [2, 20],\n",
       "  [0, 2000000.0],\n",
       "  [20, 200],\n",
       "  [0, 1],\n",
       "  [0, 1],\n",
       "  [0, 1],\n",
       "  [3, 30]]}"
      ]
     },
     "execution_count": 2,
     "metadata": {},
     "output_type": "execute_result"
    }
   ],
   "source": [
    "problem = {\n",
    "      'num_vars': 11,\n",
    "      'names': ['random-seed',\n",
    "                'service-range',\n",
    "                'chance-of-medical-event',\n",
    "                'chance-of-standard',\n",
    "                'meanpayloadweight',\n",
    "                'startup-costs',\n",
    "                'maintenace-cost-per-hour',\n",
    "                'chance_of_typea',\n",
    "                'chance_of_typeb',\n",
    "                'chance_of_typec',\n",
    "                'number_of_drones'],\n",
    "      'bounds': [[1, 100000],\n",
    "                 [20, 120],\n",
    "                 [1e-4, .01],\n",
    "                 [0, 1],\n",
    "                 [2, 20],\n",
    "                 [0, 2e6],\n",
    "                 [20, 200],\n",
    "                 [0,1],\n",
    "                 [0,1],\n",
    "                 [0,1],\n",
    "                 [3,30]]\n",
    "    }\n",
    "problem"
   ]
  },
  {
   "cell_type": "code",
   "execution_count": 3,
   "id": "d403fbbe-cf7d-431b-96d3-85e94bcee6bd",
   "metadata": {},
   "outputs": [
    {
     "data": {
      "text/plain": [
       "dict"
      ]
     },
     "execution_count": 3,
     "metadata": {},
     "output_type": "execute_result"
    }
   ],
   "source": [
    "type(problem)"
   ]
  },
  {
   "cell_type": "code",
   "execution_count": 4,
   "id": "f727f787-03be-4f6b-a42b-0c1b3a3acec8",
   "metadata": {},
   "outputs": [
    {
     "name": "stderr",
     "output_type": "stream",
     "text": [
      "/opt/tljh/user/lib/python3.7/site-packages/SALib/sample/saltelli.py:80: UserWarning: \n",
      "        Convergence properties of the Sobol' sequence is only valid if\n",
      "        `N` (20) is equal to `2^n`.\n",
      "        \n",
      "  warnings.warn(msg)\n"
     ]
    }
   ],
   "source": [
    "n = 20\n",
    "param_values = saltelli.sample(problem, n, calc_second_order=True)\n",
    "#param_values"
   ]
  },
  {
   "cell_type": "code",
   "execution_count": 5,
   "id": "7baaf8ec-54cf-4bf0-8031-8b1d4018f207",
   "metadata": {},
   "outputs": [
    {
     "data": {
      "text/plain": [
       "[0, 1, 2]"
      ]
     },
     "execution_count": 5,
     "metadata": {},
     "output_type": "execute_result"
    }
   ],
   "source": [
    "# start the cluster -> ipcluster start -n 2\n",
    "import ipyparallel\n",
    "client = ipyparallel.Client()\n",
    "client.ids"
   ]
  },
  {
   "cell_type": "code",
   "execution_count": 6,
   "id": "bee1d169-3eb7-48ea-b39e-b71cc3b1a40e",
   "metadata": {},
   "outputs": [],
   "source": [
    "direct_view = client[:]"
   ]
  },
  {
   "cell_type": "code",
   "execution_count": 9,
   "id": "7f74c86d-4aaf-4541-813d-b4fa359b5ad1",
   "metadata": {},
   "outputs": [
    {
     "data": {
      "text/plain": [
       "<AsyncResult: _push>"
      ]
     },
     "execution_count": 9,
     "metadata": {},
     "output_type": "execute_result"
    }
   ],
   "source": [
    "import os\n",
    "\n",
    "#Push the current working directory of the notebook to a \"cwd\" variable on the engines that can be accessed later\n",
    "direct_view.push(dict(cwd=os.getcwd()))"
   ]
  },
  {
   "cell_type": "code",
   "execution_count": 11,
   "id": "6e5a3b48-36ea-4144-b673-e0a6a735b5d5",
   "metadata": {},
   "outputs": [],
   "source": [
    "%%px\n",
    "\n",
    "import os\n",
    "os.chdir(cwd)\n",
    "\n",
    "import pyNetLogo\n",
    "import pandas as pd\n",
    "#netlogo = pyNetLogo.NetLogoLink(gui=False)\n",
    "path = \"/srv/share/NetLogo_6.2.0\"\n",
    "ver = \"6.2\"\n",
    "netlogo = pyNetLogo.NetLogoLink(netlogo_home = path, netlogo_version=ver, gui=False)\n",
    "netlogo.load_model('RMSS2_V2.2C')"
   ]
  },
  {
   "cell_type": "markdown",
   "id": "9ad5e827-c9b8-4ffe-9692-e7a846dc98ef",
   "metadata": {},
   "source": [
    "### Note: Had to move the 'problem' dict inside the func... _probably an issue with it not being published to the cluster._"
   ]
  },
  {
   "cell_type": "code",
   "execution_count": 12,
   "id": "9bbd6870-0a66-48fa-aa45-168c27b525f6",
   "metadata": {},
   "outputs": [],
   "source": [
    "def simulation(experiment):\n",
    "    \n",
    "    problem = {\n",
    "      'num_vars': 11,\n",
    "      'names': ['random-seed',\n",
    "                'service-range',\n",
    "                'chance-of-medical-event',\n",
    "                'chance-of-standard',\n",
    "                'meanpayloadweight',\n",
    "                'startup-costs',\n",
    "                'maintenace-cost-per-hour',\n",
    "                'chance_of_typea',\n",
    "                'chance_of_typeb',\n",
    "                'chance_of_typec',\n",
    "                'number_of_drones'],\n",
    "      'bounds': [[1, 100000],\n",
    "                 [20, 120],\n",
    "                 [1e-4, .01],\n",
    "                 [0, 1],\n",
    "                 [2, 20],\n",
    "                 [0, 2e6],\n",
    "                 [20, 200],\n",
    "                 [0,1],\n",
    "                 [0,1],\n",
    "                 [0,1],\n",
    "                 [3,30]]\n",
    "    }\n",
    "\n",
    "    #Set the input parameters\n",
    "    for i, name in enumerate(problem['names']):\n",
    "        if name == 'random-seed':\n",
    "            #The NetLogo random seed requires a different syntax\n",
    "            netlogo.command('random-seed {}'.format(experiment[i]))\n",
    "        else:\n",
    "            #Otherwise, assume the input parameters are global variables\n",
    "            netlogo.command('set {0} {1}'.format(name, experiment[i]))\n",
    "\n",
    "    netlogo.command('setup')\n",
    "    #Run for XXXX ticks and return the response values\n",
    "    response = netlogo.repeat_report(['mean avgResponseTimeStandard','mean avgResponseTimeEmergency', 'fitnessFunc', 'totalOperatingCosts'], 100)\n",
    "\n",
    "    results = pd.Series([response['avgResponseTimeStandard'].values.mean(),\n",
    "                         response['avgResponseTimeEmergency'].values.mean(),\n",
    "                         response['fitnessFunc'].values.mean(),\n",
    "                         response['totalOperatingCosts'].values.max],\n",
    "                        index=['Average Standard - RT', 'Average Emergnency - RT', 'fitness', 'Operating Costs'])\n",
    "\n",
    "    return results"
   ]
  },
  {
   "cell_type": "code",
   "execution_count": 13,
   "id": "58c72bea-c944-4f4a-adcd-f3a18f6beee0",
   "metadata": {},
   "outputs": [
    {
     "ename": "CompositeError",
     "evalue": "one or more exceptions from call to method: simulation\n[0:apply]: NetLogoException: org.nlogo.nvm.RuntimePrimitiveException: Can't find the mean of a list with no numbers: [].\n[1:apply]: NetLogoException: org.nlogo.nvm.RuntimePrimitiveException: Can't find the mean of a list with no numbers: [].\n[2:apply]: NetLogoException: org.nlogo.nvm.RuntimePrimitiveException: Can't find the mean of a list with no numbers: [].\n[0:apply]: NetLogoException: org.nlogo.nvm.RuntimePrimitiveException: Can't find the mean of a list with no numbers: [].\n.... 476 more exceptions ...",
     "output_type": "error",
     "traceback": [
      "[0:apply]: ",
      "\u001b[0;31m---------------------------------------------------------------------------\u001b[0m\u001b[0;31mException\u001b[0m                                 Traceback (most recent call last)\u001b[0;32m/opt/tljh/user/lib/python3.7/site-packages/_jpype.cpython-37m-x86_64-linux-gnu.so\u001b[0m in \u001b[0;36morg.nlogo.job.JobThread.run\u001b[0;34m()\u001b[0m",
      "\u001b[0;32m/opt/tljh/user/lib/python3.7/site-packages/_jpype.cpython-37m-x86_64-linux-gnu.so\u001b[0m in \u001b[0;36morg.nlogo.api.Exceptions$.handling\u001b[0;34m()\u001b[0m",
      "\u001b[0;32m/opt/tljh/user/lib/python3.7/site-packages/_jpype.cpython-37m-x86_64-linux-gnu.so\u001b[0m in \u001b[0;36mscala.util.control.Exception$Catch.apply\u001b[0;34m()\u001b[0m",
      "\u001b[0;32m/opt/tljh/user/lib/python3.7/site-packages/_jpype.cpython-37m-x86_64-linux-gnu.so\u001b[0m in \u001b[0;36mscala.runtime.java8.JFunction0$mcV$sp.apply\u001b[0;34m()\u001b[0m",
      "\u001b[0;32m/opt/tljh/user/lib/python3.7/site-packages/_jpype.cpython-37m-x86_64-linux-gnu.so\u001b[0m in \u001b[0;36morg.nlogo.job.JobThread.$anonfun$run$1\u001b[0;34m()\u001b[0m",
      "\u001b[0;32m/opt/tljh/user/lib/python3.7/site-packages/_jpype.cpython-37m-x86_64-linux-gnu.so\u001b[0m in \u001b[0;36morg.nlogo.job.JobThread.runPrimaryJobs\u001b[0;34m()\u001b[0m",
      "\u001b[0;32m/opt/tljh/user/lib/python3.7/site-packages/_jpype.cpython-37m-x86_64-linux-gnu.so\u001b[0m in \u001b[0;36morg.nlogo.nvm.ConcurrentJob.step\u001b[0;34m()\u001b[0m",
      "\u001b[0;32m/opt/tljh/user/lib/python3.7/site-packages/_jpype.cpython-37m-x86_64-linux-gnu.so\u001b[0m in \u001b[0;36morg.nlogo.nvm.Context.stepConcurrent\u001b[0;34m()\u001b[0m",
      "\u001b[0;32m/opt/tljh/user/lib/python3.7/site-packages/_jpype.cpython-37m-x86_64-linux-gnu.so\u001b[0m in \u001b[0;36morg.nlogo.prim.file._filewrite.perform\u001b[0;34m()\u001b[0m",
      "\u001b[0;32m/opt/tljh/user/lib/python3.7/site-packages/_jpype.cpython-37m-x86_64-linux-gnu.so\u001b[0m in \u001b[0;36morg.nlogo.prim._asm_procedure__evaluator_mean_1.report\u001b[0;34m()\u001b[0m",
      "\u001b[0;31mException\u001b[0m: Java Exception",
      "The above exception was the direct cause of the following exception:",
      "\u001b[0;31morg.nlogo.nvm.RuntimePrimitiveException\u001b[0m   Traceback (most recent call last)\u001b[0;32m/opt/tljh/user/lib/python3.7/site-packages/pyNetLogo/core.py\u001b[0m in \u001b[0;36mcommand\u001b[0;34m(self, netlogo_command)\u001b[0m",
      "\u001b[1;32m    335\u001b[0m         \u001b[0;32mtry\u001b[0m\u001b[0;34m:\u001b[0m\u001b[0;34m\u001b[0m\u001b[0;34m\u001b[0m\u001b[0m",
      "\u001b[0;32m--> 336\u001b[0;31m             \u001b[0mself\u001b[0m\u001b[0;34m.\u001b[0m\u001b[0mlink\u001b[0m\u001b[0;34m.\u001b[0m\u001b[0mcommand\u001b[0m\u001b[0;34m(\u001b[0m\u001b[0mnetlogo_command\u001b[0m\u001b[0;34m)\u001b[0m\u001b[0;34m\u001b[0m\u001b[0;34m\u001b[0m\u001b[0m",
      "\u001b[0m\u001b[1;32m    337\u001b[0m         \u001b[0;32mexcept\u001b[0m \u001b[0mjpype\u001b[0m\u001b[0;34m.\u001b[0m\u001b[0mJException\u001b[0m \u001b[0;32mas\u001b[0m \u001b[0mex\u001b[0m\u001b[0;34m:\u001b[0m\u001b[0;34m\u001b[0m\u001b[0;34m\u001b[0m\u001b[0m",
      "\u001b[0;31morg.nlogo.nvm.RuntimePrimitiveException\u001b[0m: org.nlogo.nvm.RuntimePrimitiveException: Can't find the mean of a list with no numbers: [].",
      "During handling of the above exception, another exception occurred:",
      "\u001b[0;31mNetLogoException\u001b[0m                          Traceback (most recent call last)\u001b[0;32m<string>\u001b[0m in \u001b[0;36m<module>\u001b[0;34m\u001b[0m",
      "\u001b[0;32m/opt/tljh/user/lib/python3.7/site-packages/ipyparallel/client/remotefunction.py\u001b[0m in \u001b[0;36m<lambda>\u001b[0;34m(f, *sequences)\u001b[0m",
      "\u001b[1;32m    141\u001b[0m \u001b[0;34m\u001b[0m\u001b[0m",
      "\u001b[1;32m    142\u001b[0m \u001b[0;32mif\u001b[0m \u001b[0msys\u001b[0m\u001b[0;34m.\u001b[0m\u001b[0mversion_info\u001b[0m\u001b[0;34m[\u001b[0m\u001b[0;36m0\u001b[0m\u001b[0;34m]\u001b[0m \u001b[0;34m>=\u001b[0m \u001b[0;36m3\u001b[0m\u001b[0;34m:\u001b[0m\u001b[0;34m\u001b[0m\u001b[0;34m\u001b[0m\u001b[0m",
      "\u001b[0;32m--> 143\u001b[0;31m     \u001b[0m_map\u001b[0m \u001b[0;34m=\u001b[0m \u001b[0;32mlambda\u001b[0m \u001b[0mf\u001b[0m\u001b[0;34m,\u001b[0m \u001b[0;34m*\u001b[0m\u001b[0msequences\u001b[0m\u001b[0;34m:\u001b[0m \u001b[0mlist\u001b[0m\u001b[0;34m(\u001b[0m\u001b[0mmap\u001b[0m\u001b[0;34m(\u001b[0m\u001b[0mf\u001b[0m\u001b[0;34m,\u001b[0m \u001b[0;34m*\u001b[0m\u001b[0msequences\u001b[0m\u001b[0;34m)\u001b[0m\u001b[0;34m)\u001b[0m\u001b[0;34m\u001b[0m\u001b[0;34m\u001b[0m\u001b[0m",
      "\u001b[0m\u001b[1;32m    144\u001b[0m \u001b[0;32melse\u001b[0m\u001b[0;34m:\u001b[0m\u001b[0;34m\u001b[0m\u001b[0;34m\u001b[0m\u001b[0m",
      "\u001b[1;32m    145\u001b[0m     \u001b[0m_map\u001b[0m \u001b[0;34m=\u001b[0m \u001b[0mmap\u001b[0m\u001b[0;34m\u001b[0m\u001b[0;34m\u001b[0m\u001b[0m",
      "\u001b[0;32m<ipython-input-12-363913d1d7e2>\u001b[0m in \u001b[0;36msimulation\u001b[0;34m(experiment)\u001b[0m",
      "\u001b[0;32m/opt/tljh/user/lib/python3.7/site-packages/pyNetLogo/core.py\u001b[0m in \u001b[0;36mrepeat_report\u001b[0;34m(self, netlogo_reporter, reps, go, include_t0)\u001b[0m",
      "\u001b[1;32m    587\u001b[0m \u001b[0;34m\u001b[0m\u001b[0m",
      "\u001b[1;32m    588\u001b[0m \u001b[0;34m\u001b[0m\u001b[0m",
      "\u001b[0;32m--> 589\u001b[0;31m         \u001b[0mself\u001b[0m\u001b[0;34m.\u001b[0m\u001b[0mcommand\u001b[0m\u001b[0;34m(\u001b[0m\u001b[0mcommand\u001b[0m\u001b[0;34m)\u001b[0m\u001b[0;34m\u001b[0m\u001b[0;34m\u001b[0m\u001b[0m",
      "\u001b[0m\u001b[1;32m    590\u001b[0m \u001b[0;34m\u001b[0m\u001b[0m",
      "\u001b[1;32m    591\u001b[0m \u001b[0;34m\u001b[0m\u001b[0m",
      "\u001b[0;32m/opt/tljh/user/lib/python3.7/site-packages/pyNetLogo/core.py\u001b[0m in \u001b[0;36mcommand\u001b[0;34m(self, netlogo_command)\u001b[0m",
      "\u001b[1;32m    337\u001b[0m         \u001b[0;32mexcept\u001b[0m \u001b[0mjpype\u001b[0m\u001b[0;34m.\u001b[0m\u001b[0mJException\u001b[0m \u001b[0;32mas\u001b[0m \u001b[0mex\u001b[0m\u001b[0;34m:\u001b[0m\u001b[0;34m\u001b[0m\u001b[0;34m\u001b[0m\u001b[0m",
      "\u001b[1;32m    338\u001b[0m             \u001b[0mprint\u001b[0m\u001b[0;34m(\u001b[0m\u001b[0mex\u001b[0m\u001b[0;34m.\u001b[0m\u001b[0mstacktrace\u001b[0m\u001b[0;34m(\u001b[0m\u001b[0;34m)\u001b[0m\u001b[0;34m)\u001b[0m\u001b[0;34m\u001b[0m\u001b[0;34m\u001b[0m\u001b[0m",
      "\u001b[0;32m--> 339\u001b[0;31m             \u001b[0;32mraise\u001b[0m \u001b[0mNetLogoException\u001b[0m\u001b[0;34m(\u001b[0m\u001b[0mstr\u001b[0m\u001b[0;34m(\u001b[0m\u001b[0mex\u001b[0m\u001b[0;34m)\u001b[0m\u001b[0;34m)\u001b[0m\u001b[0;34m\u001b[0m\u001b[0;34m\u001b[0m\u001b[0m",
      "\u001b[0m\u001b[1;32m    340\u001b[0m \u001b[0;34m\u001b[0m\u001b[0m",
      "\u001b[1;32m    341\u001b[0m     \u001b[0;32mdef\u001b[0m \u001b[0mreport\u001b[0m\u001b[0;34m(\u001b[0m\u001b[0mself\u001b[0m\u001b[0;34m,\u001b[0m \u001b[0mnetlogo_reporter\u001b[0m\u001b[0;34m)\u001b[0m\u001b[0;34m:\u001b[0m\u001b[0;34m\u001b[0m\u001b[0;34m\u001b[0m\u001b[0m",
      "\u001b[0;31mNetLogoException\u001b[0m: org.nlogo.nvm.RuntimePrimitiveException: Can't find the mean of a list with no numbers: [].",
      "",
      "[1:apply]: ",
      "\u001b[0;31m---------------------------------------------------------------------------\u001b[0m\u001b[0;31mException\u001b[0m                                 Traceback (most recent call last)\u001b[0;32m/opt/tljh/user/lib/python3.7/site-packages/_jpype.cpython-37m-x86_64-linux-gnu.so\u001b[0m in \u001b[0;36morg.nlogo.job.JobThread.run\u001b[0;34m()\u001b[0m",
      "\u001b[0;32m/opt/tljh/user/lib/python3.7/site-packages/_jpype.cpython-37m-x86_64-linux-gnu.so\u001b[0m in \u001b[0;36morg.nlogo.api.Exceptions$.handling\u001b[0;34m()\u001b[0m",
      "\u001b[0;32m/opt/tljh/user/lib/python3.7/site-packages/_jpype.cpython-37m-x86_64-linux-gnu.so\u001b[0m in \u001b[0;36mscala.util.control.Exception$Catch.apply\u001b[0;34m()\u001b[0m",
      "\u001b[0;32m/opt/tljh/user/lib/python3.7/site-packages/_jpype.cpython-37m-x86_64-linux-gnu.so\u001b[0m in \u001b[0;36mscala.runtime.java8.JFunction0$mcV$sp.apply\u001b[0;34m()\u001b[0m",
      "\u001b[0;32m/opt/tljh/user/lib/python3.7/site-packages/_jpype.cpython-37m-x86_64-linux-gnu.so\u001b[0m in \u001b[0;36morg.nlogo.job.JobThread.$anonfun$run$1\u001b[0;34m()\u001b[0m",
      "\u001b[0;32m/opt/tljh/user/lib/python3.7/site-packages/_jpype.cpython-37m-x86_64-linux-gnu.so\u001b[0m in \u001b[0;36morg.nlogo.job.JobThread.runPrimaryJobs\u001b[0;34m()\u001b[0m",
      "\u001b[0;32m/opt/tljh/user/lib/python3.7/site-packages/_jpype.cpython-37m-x86_64-linux-gnu.so\u001b[0m in \u001b[0;36morg.nlogo.nvm.ConcurrentJob.step\u001b[0;34m()\u001b[0m",
      "\u001b[0;32m/opt/tljh/user/lib/python3.7/site-packages/_jpype.cpython-37m-x86_64-linux-gnu.so\u001b[0m in \u001b[0;36morg.nlogo.nvm.Context.stepConcurrent\u001b[0;34m()\u001b[0m",
      "\u001b[0;32m/opt/tljh/user/lib/python3.7/site-packages/_jpype.cpython-37m-x86_64-linux-gnu.so\u001b[0m in \u001b[0;36morg.nlogo.prim.file._filewrite.perform\u001b[0;34m()\u001b[0m",
      "\u001b[0;32m/opt/tljh/user/lib/python3.7/site-packages/_jpype.cpython-37m-x86_64-linux-gnu.so\u001b[0m in \u001b[0;36morg.nlogo.prim._asm_procedure__evaluator_mean_1.report\u001b[0;34m()\u001b[0m",
      "\u001b[0;31mException\u001b[0m: Java Exception",
      "The above exception was the direct cause of the following exception:",
      "\u001b[0;31morg.nlogo.nvm.RuntimePrimitiveException\u001b[0m   Traceback (most recent call last)\u001b[0;32m/opt/tljh/user/lib/python3.7/site-packages/pyNetLogo/core.py\u001b[0m in \u001b[0;36mcommand\u001b[0;34m(self, netlogo_command)\u001b[0m",
      "\u001b[1;32m    335\u001b[0m         \u001b[0;32mtry\u001b[0m\u001b[0;34m:\u001b[0m\u001b[0;34m\u001b[0m\u001b[0;34m\u001b[0m\u001b[0m",
      "\u001b[0;32m--> 336\u001b[0;31m             \u001b[0mself\u001b[0m\u001b[0;34m.\u001b[0m\u001b[0mlink\u001b[0m\u001b[0;34m.\u001b[0m\u001b[0mcommand\u001b[0m\u001b[0;34m(\u001b[0m\u001b[0mnetlogo_command\u001b[0m\u001b[0;34m)\u001b[0m\u001b[0;34m\u001b[0m\u001b[0;34m\u001b[0m\u001b[0m",
      "\u001b[0m\u001b[1;32m    337\u001b[0m         \u001b[0;32mexcept\u001b[0m \u001b[0mjpype\u001b[0m\u001b[0;34m.\u001b[0m\u001b[0mJException\u001b[0m \u001b[0;32mas\u001b[0m \u001b[0mex\u001b[0m\u001b[0;34m:\u001b[0m\u001b[0;34m\u001b[0m\u001b[0;34m\u001b[0m\u001b[0m",
      "\u001b[0;31morg.nlogo.nvm.RuntimePrimitiveException\u001b[0m: org.nlogo.nvm.RuntimePrimitiveException: Can't find the mean of a list with no numbers: [].",
      "During handling of the above exception, another exception occurred:",
      "\u001b[0;31mNetLogoException\u001b[0m                          Traceback (most recent call last)\u001b[0;32m<string>\u001b[0m in \u001b[0;36m<module>\u001b[0;34m\u001b[0m",
      "\u001b[0;32m/opt/tljh/user/lib/python3.7/site-packages/ipyparallel/client/remotefunction.py\u001b[0m in \u001b[0;36m<lambda>\u001b[0;34m(f, *sequences)\u001b[0m",
      "\u001b[1;32m    141\u001b[0m \u001b[0;34m\u001b[0m\u001b[0m",
      "\u001b[1;32m    142\u001b[0m \u001b[0;32mif\u001b[0m \u001b[0msys\u001b[0m\u001b[0;34m.\u001b[0m\u001b[0mversion_info\u001b[0m\u001b[0;34m[\u001b[0m\u001b[0;36m0\u001b[0m\u001b[0;34m]\u001b[0m \u001b[0;34m>=\u001b[0m \u001b[0;36m3\u001b[0m\u001b[0;34m:\u001b[0m\u001b[0;34m\u001b[0m\u001b[0;34m\u001b[0m\u001b[0m",
      "\u001b[0;32m--> 143\u001b[0;31m     \u001b[0m_map\u001b[0m \u001b[0;34m=\u001b[0m \u001b[0;32mlambda\u001b[0m \u001b[0mf\u001b[0m\u001b[0;34m,\u001b[0m \u001b[0;34m*\u001b[0m\u001b[0msequences\u001b[0m\u001b[0;34m:\u001b[0m \u001b[0mlist\u001b[0m\u001b[0;34m(\u001b[0m\u001b[0mmap\u001b[0m\u001b[0;34m(\u001b[0m\u001b[0mf\u001b[0m\u001b[0;34m,\u001b[0m \u001b[0;34m*\u001b[0m\u001b[0msequences\u001b[0m\u001b[0;34m)\u001b[0m\u001b[0;34m)\u001b[0m\u001b[0;34m\u001b[0m\u001b[0;34m\u001b[0m\u001b[0m",
      "\u001b[0m\u001b[1;32m    144\u001b[0m \u001b[0;32melse\u001b[0m\u001b[0;34m:\u001b[0m\u001b[0;34m\u001b[0m\u001b[0;34m\u001b[0m\u001b[0m",
      "\u001b[1;32m    145\u001b[0m     \u001b[0m_map\u001b[0m \u001b[0;34m=\u001b[0m \u001b[0mmap\u001b[0m\u001b[0;34m\u001b[0m\u001b[0;34m\u001b[0m\u001b[0m",
      "\u001b[0;32m<ipython-input-12-363913d1d7e2>\u001b[0m in \u001b[0;36msimulation\u001b[0;34m(experiment)\u001b[0m",
      "\u001b[0;32m/opt/tljh/user/lib/python3.7/site-packages/pyNetLogo/core.py\u001b[0m in \u001b[0;36mrepeat_report\u001b[0;34m(self, netlogo_reporter, reps, go, include_t0)\u001b[0m",
      "\u001b[1;32m    587\u001b[0m \u001b[0;34m\u001b[0m\u001b[0m",
      "\u001b[1;32m    588\u001b[0m \u001b[0;34m\u001b[0m\u001b[0m",
      "\u001b[0;32m--> 589\u001b[0;31m         \u001b[0mself\u001b[0m\u001b[0;34m.\u001b[0m\u001b[0mcommand\u001b[0m\u001b[0;34m(\u001b[0m\u001b[0mcommand\u001b[0m\u001b[0;34m)\u001b[0m\u001b[0;34m\u001b[0m\u001b[0;34m\u001b[0m\u001b[0m",
      "\u001b[0m\u001b[1;32m    590\u001b[0m \u001b[0;34m\u001b[0m\u001b[0m",
      "\u001b[1;32m    591\u001b[0m \u001b[0;34m\u001b[0m\u001b[0m",
      "\u001b[0;32m/opt/tljh/user/lib/python3.7/site-packages/pyNetLogo/core.py\u001b[0m in \u001b[0;36mcommand\u001b[0;34m(self, netlogo_command)\u001b[0m",
      "\u001b[1;32m    337\u001b[0m         \u001b[0;32mexcept\u001b[0m \u001b[0mjpype\u001b[0m\u001b[0;34m.\u001b[0m\u001b[0mJException\u001b[0m \u001b[0;32mas\u001b[0m \u001b[0mex\u001b[0m\u001b[0;34m:\u001b[0m\u001b[0;34m\u001b[0m\u001b[0;34m\u001b[0m\u001b[0m",
      "\u001b[1;32m    338\u001b[0m             \u001b[0mprint\u001b[0m\u001b[0;34m(\u001b[0m\u001b[0mex\u001b[0m\u001b[0;34m.\u001b[0m\u001b[0mstacktrace\u001b[0m\u001b[0;34m(\u001b[0m\u001b[0;34m)\u001b[0m\u001b[0;34m)\u001b[0m\u001b[0;34m\u001b[0m\u001b[0;34m\u001b[0m\u001b[0m",
      "\u001b[0;32m--> 339\u001b[0;31m             \u001b[0;32mraise\u001b[0m \u001b[0mNetLogoException\u001b[0m\u001b[0;34m(\u001b[0m\u001b[0mstr\u001b[0m\u001b[0;34m(\u001b[0m\u001b[0mex\u001b[0m\u001b[0;34m)\u001b[0m\u001b[0;34m)\u001b[0m\u001b[0;34m\u001b[0m\u001b[0;34m\u001b[0m\u001b[0m",
      "\u001b[0m\u001b[1;32m    340\u001b[0m \u001b[0;34m\u001b[0m\u001b[0m",
      "\u001b[1;32m    341\u001b[0m     \u001b[0;32mdef\u001b[0m \u001b[0mreport\u001b[0m\u001b[0;34m(\u001b[0m\u001b[0mself\u001b[0m\u001b[0;34m,\u001b[0m \u001b[0mnetlogo_reporter\u001b[0m\u001b[0;34m)\u001b[0m\u001b[0;34m:\u001b[0m\u001b[0;34m\u001b[0m\u001b[0;34m\u001b[0m\u001b[0m",
      "\u001b[0;31mNetLogoException\u001b[0m: org.nlogo.nvm.RuntimePrimitiveException: Can't find the mean of a list with no numbers: [].",
      "",
      "[2:apply]: ",
      "\u001b[0;31m---------------------------------------------------------------------------\u001b[0m\u001b[0;31mException\u001b[0m                                 Traceback (most recent call last)\u001b[0;32m/opt/tljh/user/lib/python3.7/site-packages/_jpype.cpython-37m-x86_64-linux-gnu.so\u001b[0m in \u001b[0;36morg.nlogo.job.JobThread.run\u001b[0;34m()\u001b[0m",
      "\u001b[0;32m/opt/tljh/user/lib/python3.7/site-packages/_jpype.cpython-37m-x86_64-linux-gnu.so\u001b[0m in \u001b[0;36morg.nlogo.api.Exceptions$.handling\u001b[0;34m()\u001b[0m",
      "\u001b[0;32m/opt/tljh/user/lib/python3.7/site-packages/_jpype.cpython-37m-x86_64-linux-gnu.so\u001b[0m in \u001b[0;36mscala.util.control.Exception$Catch.apply\u001b[0;34m()\u001b[0m",
      "\u001b[0;32m/opt/tljh/user/lib/python3.7/site-packages/_jpype.cpython-37m-x86_64-linux-gnu.so\u001b[0m in \u001b[0;36mscala.runtime.java8.JFunction0$mcV$sp.apply\u001b[0;34m()\u001b[0m",
      "\u001b[0;32m/opt/tljh/user/lib/python3.7/site-packages/_jpype.cpython-37m-x86_64-linux-gnu.so\u001b[0m in \u001b[0;36morg.nlogo.job.JobThread.$anonfun$run$1\u001b[0;34m()\u001b[0m",
      "\u001b[0;32m/opt/tljh/user/lib/python3.7/site-packages/_jpype.cpython-37m-x86_64-linux-gnu.so\u001b[0m in \u001b[0;36morg.nlogo.job.JobThread.runPrimaryJobs\u001b[0;34m()\u001b[0m",
      "\u001b[0;32m/opt/tljh/user/lib/python3.7/site-packages/_jpype.cpython-37m-x86_64-linux-gnu.so\u001b[0m in \u001b[0;36morg.nlogo.nvm.ConcurrentJob.step\u001b[0;34m()\u001b[0m",
      "\u001b[0;32m/opt/tljh/user/lib/python3.7/site-packages/_jpype.cpython-37m-x86_64-linux-gnu.so\u001b[0m in \u001b[0;36morg.nlogo.nvm.Context.stepConcurrent\u001b[0;34m()\u001b[0m",
      "\u001b[0;32m/opt/tljh/user/lib/python3.7/site-packages/_jpype.cpython-37m-x86_64-linux-gnu.so\u001b[0m in \u001b[0;36morg.nlogo.prim.file._filewrite.perform\u001b[0;34m()\u001b[0m",
      "\u001b[0;32m/opt/tljh/user/lib/python3.7/site-packages/_jpype.cpython-37m-x86_64-linux-gnu.so\u001b[0m in \u001b[0;36morg.nlogo.prim._asm_procedure__evaluator_mean_1.report\u001b[0;34m()\u001b[0m",
      "\u001b[0;31mException\u001b[0m: Java Exception",
      "The above exception was the direct cause of the following exception:",
      "\u001b[0;31morg.nlogo.nvm.RuntimePrimitiveException\u001b[0m   Traceback (most recent call last)\u001b[0;32m/opt/tljh/user/lib/python3.7/site-packages/pyNetLogo/core.py\u001b[0m in \u001b[0;36mcommand\u001b[0;34m(self, netlogo_command)\u001b[0m",
      "\u001b[1;32m    335\u001b[0m         \u001b[0;32mtry\u001b[0m\u001b[0;34m:\u001b[0m\u001b[0;34m\u001b[0m\u001b[0;34m\u001b[0m\u001b[0m",
      "\u001b[0;32m--> 336\u001b[0;31m             \u001b[0mself\u001b[0m\u001b[0;34m.\u001b[0m\u001b[0mlink\u001b[0m\u001b[0;34m.\u001b[0m\u001b[0mcommand\u001b[0m\u001b[0;34m(\u001b[0m\u001b[0mnetlogo_command\u001b[0m\u001b[0;34m)\u001b[0m\u001b[0;34m\u001b[0m\u001b[0;34m\u001b[0m\u001b[0m",
      "\u001b[0m\u001b[1;32m    337\u001b[0m         \u001b[0;32mexcept\u001b[0m \u001b[0mjpype\u001b[0m\u001b[0;34m.\u001b[0m\u001b[0mJException\u001b[0m \u001b[0;32mas\u001b[0m \u001b[0mex\u001b[0m\u001b[0;34m:\u001b[0m\u001b[0;34m\u001b[0m\u001b[0;34m\u001b[0m\u001b[0m",
      "\u001b[0;31morg.nlogo.nvm.RuntimePrimitiveException\u001b[0m: org.nlogo.nvm.RuntimePrimitiveException: Can't find the mean of a list with no numbers: [].",
      "During handling of the above exception, another exception occurred:",
      "\u001b[0;31mNetLogoException\u001b[0m                          Traceback (most recent call last)\u001b[0;32m<string>\u001b[0m in \u001b[0;36m<module>\u001b[0;34m\u001b[0m",
      "\u001b[0;32m/opt/tljh/user/lib/python3.7/site-packages/ipyparallel/client/remotefunction.py\u001b[0m in \u001b[0;36m<lambda>\u001b[0;34m(f, *sequences)\u001b[0m",
      "\u001b[1;32m    141\u001b[0m \u001b[0;34m\u001b[0m\u001b[0m",
      "\u001b[1;32m    142\u001b[0m \u001b[0;32mif\u001b[0m \u001b[0msys\u001b[0m\u001b[0;34m.\u001b[0m\u001b[0mversion_info\u001b[0m\u001b[0;34m[\u001b[0m\u001b[0;36m0\u001b[0m\u001b[0;34m]\u001b[0m \u001b[0;34m>=\u001b[0m \u001b[0;36m3\u001b[0m\u001b[0;34m:\u001b[0m\u001b[0;34m\u001b[0m\u001b[0;34m\u001b[0m\u001b[0m",
      "\u001b[0;32m--> 143\u001b[0;31m     \u001b[0m_map\u001b[0m \u001b[0;34m=\u001b[0m \u001b[0;32mlambda\u001b[0m \u001b[0mf\u001b[0m\u001b[0;34m,\u001b[0m \u001b[0;34m*\u001b[0m\u001b[0msequences\u001b[0m\u001b[0;34m:\u001b[0m \u001b[0mlist\u001b[0m\u001b[0;34m(\u001b[0m\u001b[0mmap\u001b[0m\u001b[0;34m(\u001b[0m\u001b[0mf\u001b[0m\u001b[0;34m,\u001b[0m \u001b[0;34m*\u001b[0m\u001b[0msequences\u001b[0m\u001b[0;34m)\u001b[0m\u001b[0;34m)\u001b[0m\u001b[0;34m\u001b[0m\u001b[0;34m\u001b[0m\u001b[0m",
      "\u001b[0m\u001b[1;32m    144\u001b[0m \u001b[0;32melse\u001b[0m\u001b[0;34m:\u001b[0m\u001b[0;34m\u001b[0m\u001b[0;34m\u001b[0m\u001b[0m",
      "\u001b[1;32m    145\u001b[0m     \u001b[0m_map\u001b[0m \u001b[0;34m=\u001b[0m \u001b[0mmap\u001b[0m\u001b[0;34m\u001b[0m\u001b[0;34m\u001b[0m\u001b[0m",
      "\u001b[0;32m<ipython-input-12-363913d1d7e2>\u001b[0m in \u001b[0;36msimulation\u001b[0;34m(experiment)\u001b[0m",
      "\u001b[0;32m/opt/tljh/user/lib/python3.7/site-packages/pyNetLogo/core.py\u001b[0m in \u001b[0;36mrepeat_report\u001b[0;34m(self, netlogo_reporter, reps, go, include_t0)\u001b[0m",
      "\u001b[1;32m    587\u001b[0m \u001b[0;34m\u001b[0m\u001b[0m",
      "\u001b[1;32m    588\u001b[0m \u001b[0;34m\u001b[0m\u001b[0m",
      "\u001b[0;32m--> 589\u001b[0;31m         \u001b[0mself\u001b[0m\u001b[0;34m.\u001b[0m\u001b[0mcommand\u001b[0m\u001b[0;34m(\u001b[0m\u001b[0mcommand\u001b[0m\u001b[0;34m)\u001b[0m\u001b[0;34m\u001b[0m\u001b[0;34m\u001b[0m\u001b[0m",
      "\u001b[0m\u001b[1;32m    590\u001b[0m \u001b[0;34m\u001b[0m\u001b[0m",
      "\u001b[1;32m    591\u001b[0m \u001b[0;34m\u001b[0m\u001b[0m",
      "\u001b[0;32m/opt/tljh/user/lib/python3.7/site-packages/pyNetLogo/core.py\u001b[0m in \u001b[0;36mcommand\u001b[0;34m(self, netlogo_command)\u001b[0m",
      "\u001b[1;32m    337\u001b[0m         \u001b[0;32mexcept\u001b[0m \u001b[0mjpype\u001b[0m\u001b[0;34m.\u001b[0m\u001b[0mJException\u001b[0m \u001b[0;32mas\u001b[0m \u001b[0mex\u001b[0m\u001b[0;34m:\u001b[0m\u001b[0;34m\u001b[0m\u001b[0;34m\u001b[0m\u001b[0m",
      "\u001b[1;32m    338\u001b[0m             \u001b[0mprint\u001b[0m\u001b[0;34m(\u001b[0m\u001b[0mex\u001b[0m\u001b[0;34m.\u001b[0m\u001b[0mstacktrace\u001b[0m\u001b[0;34m(\u001b[0m\u001b[0;34m)\u001b[0m\u001b[0;34m)\u001b[0m\u001b[0;34m\u001b[0m\u001b[0;34m\u001b[0m\u001b[0m",
      "\u001b[0;32m--> 339\u001b[0;31m             \u001b[0;32mraise\u001b[0m \u001b[0mNetLogoException\u001b[0m\u001b[0;34m(\u001b[0m\u001b[0mstr\u001b[0m\u001b[0;34m(\u001b[0m\u001b[0mex\u001b[0m\u001b[0;34m)\u001b[0m\u001b[0;34m)\u001b[0m\u001b[0;34m\u001b[0m\u001b[0;34m\u001b[0m\u001b[0m",
      "\u001b[0m\u001b[1;32m    340\u001b[0m \u001b[0;34m\u001b[0m\u001b[0m",
      "\u001b[1;32m    341\u001b[0m     \u001b[0;32mdef\u001b[0m \u001b[0mreport\u001b[0m\u001b[0;34m(\u001b[0m\u001b[0mself\u001b[0m\u001b[0;34m,\u001b[0m \u001b[0mnetlogo_reporter\u001b[0m\u001b[0;34m)\u001b[0m\u001b[0;34m:\u001b[0m\u001b[0;34m\u001b[0m\u001b[0;34m\u001b[0m\u001b[0m",
      "\u001b[0;31mNetLogoException\u001b[0m: org.nlogo.nvm.RuntimePrimitiveException: Can't find the mean of a list with no numbers: [].",
      "",
      "[0:apply]: ",
      "\u001b[0;31m---------------------------------------------------------------------------\u001b[0m\u001b[0;31mException\u001b[0m                                 Traceback (most recent call last)\u001b[0;32m/opt/tljh/user/lib/python3.7/site-packages/_jpype.cpython-37m-x86_64-linux-gnu.so\u001b[0m in \u001b[0;36morg.nlogo.job.JobThread.run\u001b[0;34m()\u001b[0m",
      "\u001b[0;32m/opt/tljh/user/lib/python3.7/site-packages/_jpype.cpython-37m-x86_64-linux-gnu.so\u001b[0m in \u001b[0;36morg.nlogo.api.Exceptions$.handling\u001b[0;34m()\u001b[0m",
      "\u001b[0;32m/opt/tljh/user/lib/python3.7/site-packages/_jpype.cpython-37m-x86_64-linux-gnu.so\u001b[0m in \u001b[0;36mscala.util.control.Exception$Catch.apply\u001b[0;34m()\u001b[0m",
      "\u001b[0;32m/opt/tljh/user/lib/python3.7/site-packages/_jpype.cpython-37m-x86_64-linux-gnu.so\u001b[0m in \u001b[0;36mscala.runtime.java8.JFunction0$mcV$sp.apply\u001b[0;34m()\u001b[0m",
      "\u001b[0;32m/opt/tljh/user/lib/python3.7/site-packages/_jpype.cpython-37m-x86_64-linux-gnu.so\u001b[0m in \u001b[0;36morg.nlogo.job.JobThread.$anonfun$run$1\u001b[0;34m()\u001b[0m",
      "\u001b[0;32m/opt/tljh/user/lib/python3.7/site-packages/_jpype.cpython-37m-x86_64-linux-gnu.so\u001b[0m in \u001b[0;36morg.nlogo.job.JobThread.runPrimaryJobs\u001b[0;34m()\u001b[0m",
      "\u001b[0;32m/opt/tljh/user/lib/python3.7/site-packages/_jpype.cpython-37m-x86_64-linux-gnu.so\u001b[0m in \u001b[0;36morg.nlogo.nvm.ConcurrentJob.step\u001b[0;34m()\u001b[0m",
      "\u001b[0;32m/opt/tljh/user/lib/python3.7/site-packages/_jpype.cpython-37m-x86_64-linux-gnu.so\u001b[0m in \u001b[0;36morg.nlogo.nvm.Context.stepConcurrent\u001b[0;34m()\u001b[0m",
      "\u001b[0;32m/opt/tljh/user/lib/python3.7/site-packages/_jpype.cpython-37m-x86_64-linux-gnu.so\u001b[0m in \u001b[0;36morg.nlogo.prim.file._filewrite.perform\u001b[0;34m()\u001b[0m",
      "\u001b[0;32m/opt/tljh/user/lib/python3.7/site-packages/_jpype.cpython-37m-x86_64-linux-gnu.so\u001b[0m in \u001b[0;36morg.nlogo.prim._asm_procedure__evaluator_mean_1.report\u001b[0;34m()\u001b[0m",
      "\u001b[0;31mException\u001b[0m: Java Exception",
      "The above exception was the direct cause of the following exception:",
      "\u001b[0;31morg.nlogo.nvm.RuntimePrimitiveException\u001b[0m   Traceback (most recent call last)\u001b[0;32m/opt/tljh/user/lib/python3.7/site-packages/pyNetLogo/core.py\u001b[0m in \u001b[0;36mcommand\u001b[0;34m(self, netlogo_command)\u001b[0m",
      "\u001b[1;32m    335\u001b[0m         \u001b[0;32mtry\u001b[0m\u001b[0;34m:\u001b[0m\u001b[0;34m\u001b[0m\u001b[0;34m\u001b[0m\u001b[0m",
      "\u001b[0;32m--> 336\u001b[0;31m             \u001b[0mself\u001b[0m\u001b[0;34m.\u001b[0m\u001b[0mlink\u001b[0m\u001b[0;34m.\u001b[0m\u001b[0mcommand\u001b[0m\u001b[0;34m(\u001b[0m\u001b[0mnetlogo_command\u001b[0m\u001b[0;34m)\u001b[0m\u001b[0;34m\u001b[0m\u001b[0;34m\u001b[0m\u001b[0m",
      "\u001b[0m\u001b[1;32m    337\u001b[0m         \u001b[0;32mexcept\u001b[0m \u001b[0mjpype\u001b[0m\u001b[0;34m.\u001b[0m\u001b[0mJException\u001b[0m \u001b[0;32mas\u001b[0m \u001b[0mex\u001b[0m\u001b[0;34m:\u001b[0m\u001b[0;34m\u001b[0m\u001b[0;34m\u001b[0m\u001b[0m",
      "\u001b[0;31morg.nlogo.nvm.RuntimePrimitiveException\u001b[0m: org.nlogo.nvm.RuntimePrimitiveException: Can't find the mean of a list with no numbers: [].",
      "During handling of the above exception, another exception occurred:",
      "\u001b[0;31mNetLogoException\u001b[0m                          Traceback (most recent call last)\u001b[0;32m<string>\u001b[0m in \u001b[0;36m<module>\u001b[0;34m\u001b[0m",
      "\u001b[0;32m/opt/tljh/user/lib/python3.7/site-packages/ipyparallel/client/remotefunction.py\u001b[0m in \u001b[0;36m<lambda>\u001b[0;34m(f, *sequences)\u001b[0m",
      "\u001b[1;32m    141\u001b[0m \u001b[0;34m\u001b[0m\u001b[0m",
      "\u001b[1;32m    142\u001b[0m \u001b[0;32mif\u001b[0m \u001b[0msys\u001b[0m\u001b[0;34m.\u001b[0m\u001b[0mversion_info\u001b[0m\u001b[0;34m[\u001b[0m\u001b[0;36m0\u001b[0m\u001b[0;34m]\u001b[0m \u001b[0;34m>=\u001b[0m \u001b[0;36m3\u001b[0m\u001b[0;34m:\u001b[0m\u001b[0;34m\u001b[0m\u001b[0;34m\u001b[0m\u001b[0m",
      "\u001b[0;32m--> 143\u001b[0;31m     \u001b[0m_map\u001b[0m \u001b[0;34m=\u001b[0m \u001b[0;32mlambda\u001b[0m \u001b[0mf\u001b[0m\u001b[0;34m,\u001b[0m \u001b[0;34m*\u001b[0m\u001b[0msequences\u001b[0m\u001b[0;34m:\u001b[0m \u001b[0mlist\u001b[0m\u001b[0;34m(\u001b[0m\u001b[0mmap\u001b[0m\u001b[0;34m(\u001b[0m\u001b[0mf\u001b[0m\u001b[0;34m,\u001b[0m \u001b[0;34m*\u001b[0m\u001b[0msequences\u001b[0m\u001b[0;34m)\u001b[0m\u001b[0;34m)\u001b[0m\u001b[0;34m\u001b[0m\u001b[0;34m\u001b[0m\u001b[0m",
      "\u001b[0m\u001b[1;32m    144\u001b[0m \u001b[0;32melse\u001b[0m\u001b[0;34m:\u001b[0m\u001b[0;34m\u001b[0m\u001b[0;34m\u001b[0m\u001b[0m",
      "\u001b[1;32m    145\u001b[0m     \u001b[0m_map\u001b[0m \u001b[0;34m=\u001b[0m \u001b[0mmap\u001b[0m\u001b[0;34m\u001b[0m\u001b[0;34m\u001b[0m\u001b[0m",
      "\u001b[0;32m<ipython-input-12-363913d1d7e2>\u001b[0m in \u001b[0;36msimulation\u001b[0;34m(experiment)\u001b[0m",
      "\u001b[0;32m/opt/tljh/user/lib/python3.7/site-packages/pyNetLogo/core.py\u001b[0m in \u001b[0;36mrepeat_report\u001b[0;34m(self, netlogo_reporter, reps, go, include_t0)\u001b[0m",
      "\u001b[1;32m    587\u001b[0m \u001b[0;34m\u001b[0m\u001b[0m",
      "\u001b[1;32m    588\u001b[0m \u001b[0;34m\u001b[0m\u001b[0m",
      "\u001b[0;32m--> 589\u001b[0;31m         \u001b[0mself\u001b[0m\u001b[0;34m.\u001b[0m\u001b[0mcommand\u001b[0m\u001b[0;34m(\u001b[0m\u001b[0mcommand\u001b[0m\u001b[0;34m)\u001b[0m\u001b[0;34m\u001b[0m\u001b[0;34m\u001b[0m\u001b[0m",
      "\u001b[0m\u001b[1;32m    590\u001b[0m \u001b[0;34m\u001b[0m\u001b[0m",
      "\u001b[1;32m    591\u001b[0m \u001b[0;34m\u001b[0m\u001b[0m",
      "\u001b[0;32m/opt/tljh/user/lib/python3.7/site-packages/pyNetLogo/core.py\u001b[0m in \u001b[0;36mcommand\u001b[0;34m(self, netlogo_command)\u001b[0m",
      "\u001b[1;32m    337\u001b[0m         \u001b[0;32mexcept\u001b[0m \u001b[0mjpype\u001b[0m\u001b[0;34m.\u001b[0m\u001b[0mJException\u001b[0m \u001b[0;32mas\u001b[0m \u001b[0mex\u001b[0m\u001b[0;34m:\u001b[0m\u001b[0;34m\u001b[0m\u001b[0;34m\u001b[0m\u001b[0m",
      "\u001b[1;32m    338\u001b[0m             \u001b[0mprint\u001b[0m\u001b[0;34m(\u001b[0m\u001b[0mex\u001b[0m\u001b[0;34m.\u001b[0m\u001b[0mstacktrace\u001b[0m\u001b[0;34m(\u001b[0m\u001b[0;34m)\u001b[0m\u001b[0;34m)\u001b[0m\u001b[0;34m\u001b[0m\u001b[0;34m\u001b[0m\u001b[0m",
      "\u001b[0;32m--> 339\u001b[0;31m             \u001b[0;32mraise\u001b[0m \u001b[0mNetLogoException\u001b[0m\u001b[0;34m(\u001b[0m\u001b[0mstr\u001b[0m\u001b[0;34m(\u001b[0m\u001b[0mex\u001b[0m\u001b[0;34m)\u001b[0m\u001b[0;34m)\u001b[0m\u001b[0;34m\u001b[0m\u001b[0;34m\u001b[0m\u001b[0m",
      "\u001b[0m\u001b[1;32m    340\u001b[0m \u001b[0;34m\u001b[0m\u001b[0m",
      "\u001b[1;32m    341\u001b[0m     \u001b[0;32mdef\u001b[0m \u001b[0mreport\u001b[0m\u001b[0;34m(\u001b[0m\u001b[0mself\u001b[0m\u001b[0;34m,\u001b[0m \u001b[0mnetlogo_reporter\u001b[0m\u001b[0;34m)\u001b[0m\u001b[0;34m:\u001b[0m\u001b[0;34m\u001b[0m\u001b[0;34m\u001b[0m\u001b[0m",
      "\u001b[0;31mNetLogoException\u001b[0m: org.nlogo.nvm.RuntimePrimitiveException: Can't find the mean of a list with no numbers: [].",
      "",
      "... 476 more exceptions ..."
     ]
    }
   ],
   "source": [
    "lview = client.load_balanced_view()\n",
    "results = pd.DataFrame(lview.map_sync(simulation, param_values))"
   ]
  },
  {
   "cell_type": "code",
   "execution_count": null,
   "id": "d061e5b0-8fce-402a-85b4-240fc5a05cb5",
   "metadata": {},
   "outputs": [],
   "source": [
    "results.to_csv('data/RMSS2_V2.2C_2Sobol_parallel.csv')"
   ]
  },
  {
   "cell_type": "code",
   "execution_count": null,
   "id": "7b8f286b-52a7-4b1f-bb28-9711d9b4cfb6",
   "metadata": {},
   "outputs": [],
   "source": [
    "results.head(5)"
   ]
  }
 ],
 "metadata": {
  "kernelspec": {
   "display_name": "Python 3",
   "language": "python",
   "name": "python3"
  },
  "language_info": {
   "codemirror_mode": {
    "name": "ipython",
    "version": 3
   },
   "file_extension": ".py",
   "mimetype": "text/x-python",
   "name": "python",
   "nbconvert_exporter": "python",
   "pygments_lexer": "ipython3",
   "version": "3.7.10"
  }
 },
 "nbformat": 4,
 "nbformat_minor": 5
}
